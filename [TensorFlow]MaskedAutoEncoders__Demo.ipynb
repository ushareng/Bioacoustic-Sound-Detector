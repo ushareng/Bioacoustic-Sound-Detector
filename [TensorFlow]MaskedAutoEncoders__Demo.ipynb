{
  "metadata": {
    "kernelspec": {
      "language": "python",
      "display_name": "Python 3",
      "name": "python3"
    },
    "language_info": {
      "pygments_lexer": "ipython3",
      "nbconvert_exporter": "python",
      "version": "3.6.4",
      "file_extension": ".py",
      "codemirror_mode": {
        "name": "ipython",
        "version": 3
      },
      "name": "python",
      "mimetype": "text/x-python"
    },
    "colab": {
      "name": "[TensorFlow]MaskedAutoEncoders _Demo.ipynb",
      "provenance": [],
      "machine_shape": "hm",
      "background_execution": "on"
    },
    "accelerator": "TPU",
    "gpuClass": "standard"
  },
  "nbformat_minor": 0,
  "nbformat": 4,
  "cells": [
    {
      "cell_type": "markdown",
      "source": [
        "![](https://drive.google.com/uc?id=1FcuhEghc6BeJYDTbghEExQE3y3jlSZD-)"
      ],
      "metadata": {
        "papermill": {
          "duration": 0.034259,
          "end_time": "2022-03-27T12:55:21.915376",
          "exception": false,
          "start_time": "2022-03-27T12:55:21.881117",
          "status": "completed"
        },
        "tags": [],
        "id": "RcgrrsmsJXwT"
      }
    },
    {
      "cell_type": "code",
      "source": [
        "from google.colab import drive\n",
        "drive.mount('/content/drive')"
      ],
      "metadata": {
        "id": "BzASdDi_ZRTw",
        "colab": {
          "base_uri": "https://localhost:8080/"
        },
        "outputId": "7837cf91-78a3-4e44-c972-d3d15d027c13"
      },
      "execution_count": null,
      "outputs": [
        {
          "output_type": "stream",
          "name": "stdout",
          "text": [
            "Drive already mounted at /content/drive; to attempt to forcibly remount, call drive.mount(\"/content/drive\", force_remount=True).\n"
          ]
        }
      ]
    },
    {
      "cell_type": "markdown",
      "source": [
        "# Writing the whole dataset into a tfrecord file after mild preprocessing "
      ],
      "metadata": {
        "id": "AcYEQOd6Q5ZW"
      }
    },
    {
      "cell_type": "code",
      "source": [
        "import os\n",
        "import pandas as pd\n",
        "from tqdm import tqdm\n",
        "import numpy as np\n",
        "from sklearn.model_selection import StratifiedKFold\n",
        "import cv2\n",
        "import os\n",
        "import matplotlib.pyplot as plt\n",
        "from math import ceil\n",
        "import tensorflow as tf\n",
        "\n",
        "import warnings\n",
        "warnings.filterwarnings(\"ignore\")"
      ],
      "metadata": {
        "execution": {
          "iopub.status.busy": "2022-03-28T17:29:38.741983Z",
          "iopub.execute_input": "2022-03-28T17:29:38.742347Z",
          "iopub.status.idle": "2022-03-28T17:29:40.253470Z",
          "shell.execute_reply.started": "2022-03-28T17:29:38.742258Z",
          "shell.execute_reply": "2022-03-28T17:29:40.252502Z"
        },
        "trusted": true,
        "id": "OnPwxirZuSI3"
      },
      "execution_count": null,
      "outputs": []
    },
    {
      "cell_type": "code",
      "source": [
        "def configure_device():\n",
        "    try:\n",
        "        tpu = tf.distribute.cluster_resolver.TPUClusterResolver.connect()  # connect to tpu cluster\n",
        "        strategy = tf.distribute.TPUStrategy(tpu) # get strategy for tpu\n",
        "        print('Num of TPUs: ', strategy.num_replicas_in_sync)\n",
        "        device='TPU'\n",
        "    except: # otherwise detect GPUs\n",
        "        tpu = None\n",
        "        gpus = tf.config.list_logical_devices('GPU') # get logical gpus\n",
        "        ngpu = len(gpus)\n",
        "        if ngpu: # if number of GPUs are 0 then CPU\n",
        "            strategy = tf.distribute.MirroredStrategy(gpus) # single-GPU or multi-GPU\n",
        "            print(\"> Running on GPU\", end=' | ')\n",
        "            print(\"Num of GPUs: \", ngpu)\n",
        "            device='GPU'\n",
        "        else:\n",
        "            print(\"> Running on CPU\")\n",
        "            strategy = tf.distribute.get_strategy() # connect to single gpu or cpu\n",
        "            device='CPU'\n",
        "    return strategy, device, tpu"
      ],
      "metadata": {
        "id": "ASDwpoVPj1JC"
      },
      "execution_count": null,
      "outputs": []
    },
    {
      "cell_type": "code",
      "source": [
        "strategy, device, tpu = configure_device()\n",
        "AUTO = tf.data.experimental.AUTOTUNE\n"
      ],
      "metadata": {
        "colab": {
          "base_uri": "https://localhost:8080/"
        },
        "id": "rJd40S9ElIFZ",
        "outputId": "37848f0c-efe0-472e-f972-0f8104d5e237"
      },
      "execution_count": null,
      "outputs": [
        {
          "output_type": "stream",
          "name": "stdout",
          "text": [
            "INFO:tensorflow:Deallocate tpu buffers before initializing tpu system.\n"
          ]
        },
        {
          "output_type": "stream",
          "name": "stderr",
          "text": [
            "INFO:tensorflow:Deallocate tpu buffers before initializing tpu system.\n"
          ]
        },
        {
          "output_type": "stream",
          "name": "stdout",
          "text": [
            "WARNING:tensorflow:TPU system grpc://10.13.242.82:8470 has already been initialized. Reinitializing the TPU can cause previously created variables on TPU to be lost.\n"
          ]
        },
        {
          "output_type": "stream",
          "name": "stderr",
          "text": [
            "WARNING:tensorflow:TPU system grpc://10.13.242.82:8470 has already been initialized. Reinitializing the TPU can cause previously created variables on TPU to be lost.\n"
          ]
        },
        {
          "output_type": "stream",
          "name": "stdout",
          "text": [
            "INFO:tensorflow:Initializing the TPU system: grpc://10.13.242.82:8470\n"
          ]
        },
        {
          "output_type": "stream",
          "name": "stderr",
          "text": [
            "INFO:tensorflow:Initializing the TPU system: grpc://10.13.242.82:8470\n"
          ]
        },
        {
          "output_type": "stream",
          "name": "stdout",
          "text": [
            "INFO:tensorflow:Finished initializing TPU system.\n"
          ]
        },
        {
          "output_type": "stream",
          "name": "stderr",
          "text": [
            "INFO:tensorflow:Finished initializing TPU system.\n"
          ]
        },
        {
          "output_type": "stream",
          "name": "stdout",
          "text": [
            "INFO:tensorflow:Found TPU system:\n"
          ]
        },
        {
          "output_type": "stream",
          "name": "stderr",
          "text": [
            "INFO:tensorflow:Found TPU system:\n"
          ]
        },
        {
          "output_type": "stream",
          "name": "stdout",
          "text": [
            "INFO:tensorflow:*** Num TPU Cores: 8\n"
          ]
        },
        {
          "output_type": "stream",
          "name": "stderr",
          "text": [
            "INFO:tensorflow:*** Num TPU Cores: 8\n"
          ]
        },
        {
          "output_type": "stream",
          "name": "stdout",
          "text": [
            "INFO:tensorflow:*** Num TPU Workers: 1\n"
          ]
        },
        {
          "output_type": "stream",
          "name": "stderr",
          "text": [
            "INFO:tensorflow:*** Num TPU Workers: 1\n"
          ]
        },
        {
          "output_type": "stream",
          "name": "stdout",
          "text": [
            "INFO:tensorflow:*** Num TPU Cores Per Worker: 8\n"
          ]
        },
        {
          "output_type": "stream",
          "name": "stderr",
          "text": [
            "INFO:tensorflow:*** Num TPU Cores Per Worker: 8\n"
          ]
        },
        {
          "output_type": "stream",
          "name": "stdout",
          "text": [
            "INFO:tensorflow:*** Available Device: _DeviceAttributes(/job:localhost/replica:0/task:0/device:CPU:0, CPU, 0, 0)\n"
          ]
        },
        {
          "output_type": "stream",
          "name": "stderr",
          "text": [
            "INFO:tensorflow:*** Available Device: _DeviceAttributes(/job:localhost/replica:0/task:0/device:CPU:0, CPU, 0, 0)\n"
          ]
        },
        {
          "output_type": "stream",
          "name": "stdout",
          "text": [
            "INFO:tensorflow:*** Available Device: _DeviceAttributes(/job:worker/replica:0/task:0/device:CPU:0, CPU, 0, 0)\n"
          ]
        },
        {
          "output_type": "stream",
          "name": "stderr",
          "text": [
            "INFO:tensorflow:*** Available Device: _DeviceAttributes(/job:worker/replica:0/task:0/device:CPU:0, CPU, 0, 0)\n"
          ]
        },
        {
          "output_type": "stream",
          "name": "stdout",
          "text": [
            "INFO:tensorflow:*** Available Device: _DeviceAttributes(/job:worker/replica:0/task:0/device:TPU:0, TPU, 0, 0)\n"
          ]
        },
        {
          "output_type": "stream",
          "name": "stderr",
          "text": [
            "INFO:tensorflow:*** Available Device: _DeviceAttributes(/job:worker/replica:0/task:0/device:TPU:0, TPU, 0, 0)\n"
          ]
        },
        {
          "output_type": "stream",
          "name": "stdout",
          "text": [
            "INFO:tensorflow:*** Available Device: _DeviceAttributes(/job:worker/replica:0/task:0/device:TPU:1, TPU, 0, 0)\n"
          ]
        },
        {
          "output_type": "stream",
          "name": "stderr",
          "text": [
            "INFO:tensorflow:*** Available Device: _DeviceAttributes(/job:worker/replica:0/task:0/device:TPU:1, TPU, 0, 0)\n"
          ]
        },
        {
          "output_type": "stream",
          "name": "stdout",
          "text": [
            "INFO:tensorflow:*** Available Device: _DeviceAttributes(/job:worker/replica:0/task:0/device:TPU:2, TPU, 0, 0)\n"
          ]
        },
        {
          "output_type": "stream",
          "name": "stderr",
          "text": [
            "INFO:tensorflow:*** Available Device: _DeviceAttributes(/job:worker/replica:0/task:0/device:TPU:2, TPU, 0, 0)\n"
          ]
        },
        {
          "output_type": "stream",
          "name": "stdout",
          "text": [
            "INFO:tensorflow:*** Available Device: _DeviceAttributes(/job:worker/replica:0/task:0/device:TPU:3, TPU, 0, 0)\n"
          ]
        },
        {
          "output_type": "stream",
          "name": "stderr",
          "text": [
            "INFO:tensorflow:*** Available Device: _DeviceAttributes(/job:worker/replica:0/task:0/device:TPU:3, TPU, 0, 0)\n"
          ]
        },
        {
          "output_type": "stream",
          "name": "stdout",
          "text": [
            "INFO:tensorflow:*** Available Device: _DeviceAttributes(/job:worker/replica:0/task:0/device:TPU:4, TPU, 0, 0)\n"
          ]
        },
        {
          "output_type": "stream",
          "name": "stderr",
          "text": [
            "INFO:tensorflow:*** Available Device: _DeviceAttributes(/job:worker/replica:0/task:0/device:TPU:4, TPU, 0, 0)\n"
          ]
        },
        {
          "output_type": "stream",
          "name": "stdout",
          "text": [
            "INFO:tensorflow:*** Available Device: _DeviceAttributes(/job:worker/replica:0/task:0/device:TPU:5, TPU, 0, 0)\n"
          ]
        },
        {
          "output_type": "stream",
          "name": "stderr",
          "text": [
            "INFO:tensorflow:*** Available Device: _DeviceAttributes(/job:worker/replica:0/task:0/device:TPU:5, TPU, 0, 0)\n"
          ]
        },
        {
          "output_type": "stream",
          "name": "stdout",
          "text": [
            "INFO:tensorflow:*** Available Device: _DeviceAttributes(/job:worker/replica:0/task:0/device:TPU:6, TPU, 0, 0)\n"
          ]
        },
        {
          "output_type": "stream",
          "name": "stderr",
          "text": [
            "INFO:tensorflow:*** Available Device: _DeviceAttributes(/job:worker/replica:0/task:0/device:TPU:6, TPU, 0, 0)\n"
          ]
        },
        {
          "output_type": "stream",
          "name": "stdout",
          "text": [
            "INFO:tensorflow:*** Available Device: _DeviceAttributes(/job:worker/replica:0/task:0/device:TPU:7, TPU, 0, 0)\n"
          ]
        },
        {
          "output_type": "stream",
          "name": "stderr",
          "text": [
            "INFO:tensorflow:*** Available Device: _DeviceAttributes(/job:worker/replica:0/task:0/device:TPU:7, TPU, 0, 0)\n"
          ]
        },
        {
          "output_type": "stream",
          "name": "stdout",
          "text": [
            "INFO:tensorflow:*** Available Device: _DeviceAttributes(/job:worker/replica:0/task:0/device:TPU_SYSTEM:0, TPU_SYSTEM, 0, 0)\n"
          ]
        },
        {
          "output_type": "stream",
          "name": "stderr",
          "text": [
            "INFO:tensorflow:*** Available Device: _DeviceAttributes(/job:worker/replica:0/task:0/device:TPU_SYSTEM:0, TPU_SYSTEM, 0, 0)\n"
          ]
        },
        {
          "output_type": "stream",
          "name": "stdout",
          "text": [
            "INFO:tensorflow:*** Available Device: _DeviceAttributes(/job:worker/replica:0/task:0/device:XLA_CPU:0, XLA_CPU, 0, 0)\n"
          ]
        },
        {
          "output_type": "stream",
          "name": "stderr",
          "text": [
            "INFO:tensorflow:*** Available Device: _DeviceAttributes(/job:worker/replica:0/task:0/device:XLA_CPU:0, XLA_CPU, 0, 0)\n"
          ]
        },
        {
          "output_type": "stream",
          "name": "stdout",
          "text": [
            "Num of TPUs:  8\n"
          ]
        }
      ]
    },
    {
      "cell_type": "code",
      "source": [
        "import re\n",
        "def count_data_items(filenames):\n",
        "    n = [int(re.compile(r\"-([0-9]*)\\.\").search(filename).group(1)) for filename in filenames]\n",
        "    return np.sum(n)\n",
        "\n",
        "GCS_PATH = \"gs://kds-cd6394f23429c6b928662c3e4c9479f1b4e4371b159e5633d5a79b6d\"\n",
        "ALL_FILENAMES = tf.io.gfile.glob(GCS_PATH + '/*.tfrec')\n",
        "print('NUM TFRECORD FILES: {:,}'.format(len(ALL_FILENAMES)))\n"
      ],
      "metadata": {
        "colab": {
          "base_uri": "https://localhost:8080/"
        },
        "id": "lBtNTWAliCwv",
        "outputId": "b6ba382e-76c3-42d5-f9a4-268a38af2940"
      },
      "execution_count": null,
      "outputs": [
        {
          "output_type": "stream",
          "name": "stdout",
          "text": [
            "NUM TFRECORD FILES: 1\n"
          ]
        }
      ]
    },
    {
      "cell_type": "markdown",
      "source": [
        "# Parsing the saved tfrecord file and getting the dataset"
      ],
      "metadata": {
        "id": "XFXqZmJgQzQ7"
      }
    },
    {
      "cell_type": "code",
      "source": [
        "ALL_FILENAMES"
      ],
      "metadata": {
        "id": "TvBb6eSBiPYI",
        "colab": {
          "base_uri": "https://localhost:8080/"
        },
        "outputId": "0512623d-6e06-45cb-e6e0-c7e4458f64fc"
      },
      "execution_count": null,
      "outputs": [
        {
          "output_type": "execute_result",
          "data": {
            "text/plain": [
              "['gs://kds-cd6394f23429c6b928662c3e4c9479f1b4e4371b159e5633d5a79b6d/train.tfrec']"
            ]
          },
          "metadata": {},
          "execution_count": 34
        }
      ]
    },
    {
      "cell_type": "code",
      "source": [
        "# tf.config.run_functions_eagerly(True)\n",
        "def parse_tfr_element(element):\n",
        "  #use the same structure as above; it's kinda an outline of the structure we now want to create\n",
        "  data = {\n",
        "      'filename': tf.io.FixedLenFeature([], tf.string),\n",
        "      'time':tf.io.FixedLenFeature([], tf.int64),\n",
        "      'audio' : tf.io.FixedLenFeature([], tf.string),\n",
        "      'label':tf.io.FixedLenFeature([], tf.int64),\n",
        "    }\n",
        "\n",
        "    \n",
        "  content = tf.io.parse_single_example(element, data)\n",
        "  \n",
        "  filename = content['filename']\n",
        "\n",
        "  time = content['time']\n",
        "  label = content['label']\n",
        "  audio = content['audio']\n",
        "\n",
        "  return (audio, label)\n",
        "\n",
        "dataset = tf.data.TFRecordDataset(ALL_FILENAMES)\n",
        "#pass every single feature through our mapping function\n",
        "dataset=dataset.shuffle(75000)\n",
        "dataset = dataset.map(parse_tfr_element)\n",
        "# dataset = dataset.batch(10)"
      ],
      "metadata": {
        "id": "TuAeQTATRGy_"
      },
      "execution_count": null,
      "outputs": []
    },
    {
      "cell_type": "code",
      "source": [
        "from tqdm import tqdm\n",
        "train_x=[]\n",
        "train_y=[]\n",
        "#from google.colab.patches import cv2_imshow\n",
        "for sample in tqdm(dataset.take(20000)):\n",
        "  x = np.fromstring(sample[0].numpy(), dtype='uint8')\n",
        "  image = cv2.imdecode(x, cv2.IMREAD_UNCHANGED)\n",
        "  image = cv2.resize(image,(128,48))\n",
        "  train_x.append(image)\n",
        "  train_y.append(sample[1].numpy())"
      ],
      "metadata": {
        "colab": {
          "base_uri": "https://localhost:8080/"
        },
        "id": "UpHNaXaGTdOv",
        "outputId": "36094b03-5ae5-4932-d185-8646f361d317"
      },
      "execution_count": null,
      "outputs": [
        {
          "output_type": "stream",
          "name": "stderr",
          "text": [
            "20000it [01:21, 244.15it/s]\n"
          ]
        }
      ]
    },
    {
      "cell_type": "code",
      "source": [
        "# train_X = np.asarray(train_x)\n",
        "train_Y = np.asarray(train_y)\n",
        "del train_y"
      ],
      "metadata": {
        "id": "ow3pOXa3xP68"
      },
      "execution_count": null,
      "outputs": []
    },
    {
      "cell_type": "code",
      "source": [
        "train_Y = train_Y.ravel()"
      ],
      "metadata": {
        "id": "_qE2nsUMxWA-"
      },
      "execution_count": null,
      "outputs": []
    },
    {
      "cell_type": "code",
      "source": [
        "np.unique(train_Y).reshape(-1, 1).shape"
      ],
      "metadata": {
        "colab": {
          "base_uri": "https://localhost:8080/"
        },
        "id": "-0yGKO2K8NzD",
        "outputId": "68350f65-1c5a-473c-b67a-e9ae66e535db"
      },
      "execution_count": null,
      "outputs": [
        {
          "output_type": "execute_result",
          "data": {
            "text/plain": [
              "(96, 1)"
            ]
          },
          "metadata": {},
          "execution_count": 39
        }
      ]
    },
    {
      "cell_type": "code",
      "source": [
        "jg = [[float(i)] for i in range(151)]\n",
        "jg=np.array(jg)\n",
        "jg.shape"
      ],
      "metadata": {
        "colab": {
          "base_uri": "https://localhost:8080/"
        },
        "id": "RustmjSN_H4m",
        "outputId": "959bab8d-19e5-4c64-94e2-fac557050868"
      },
      "execution_count": null,
      "outputs": [
        {
          "output_type": "execute_result",
          "data": {
            "text/plain": [
              "(151, 1)"
            ]
          },
          "metadata": {},
          "execution_count": 40
        }
      ]
    },
    {
      "cell_type": "code",
      "source": [
        "from sklearn.preprocessing import OneHotEncoder\n",
        "ohe = OneHotEncoder()\n",
        "ohe.fit(jg)\n",
        "Y_vals=[]\n",
        "for y in tqdm(train_Y):\n",
        "  res = ohe.transform(np.array([y]).reshape(-1, 1)).todense()\n",
        "  y_arr = np.array(res).reshape(-1, 151)\n",
        "  Y_vals.extend(y_arr)\n",
        "Y_vals=np.array(Y_vals)\n",
        "print(Y_vals.shape)\n",
        "del train_Y\n",
        "\n",
        "train_x_placeholder=[]\n",
        "train_y = []\n",
        "for i in range(len(train_x)):\n",
        "  try:\n",
        "    assert train_x[i].shape == (48, 128, 3)\n",
        "    train_x_placeholder.append(train_x[i])\n",
        "    train_y.append(Y_vals[i])\n",
        "  except:\n",
        "    pass\n",
        "del Y_vals"
      ],
      "metadata": {
        "colab": {
          "base_uri": "https://localhost:8080/"
        },
        "id": "4BfrtV1c7R_6",
        "outputId": "98c9ae15-d332-4ea9-e115-9f273d6d1944"
      },
      "execution_count": null,
      "outputs": [
        {
          "output_type": "stream",
          "name": "stderr",
          "text": [
            "100%|██████████| 20000/20000 [00:06<00:00, 2992.09it/s]"
          ]
        },
        {
          "output_type": "stream",
          "name": "stdout",
          "text": [
            "(20000, 151)\n"
          ]
        },
        {
          "output_type": "stream",
          "name": "stderr",
          "text": [
            "\n"
          ]
        }
      ]
    },
    {
      "cell_type": "code",
      "source": [
        "train_x_placeholder = tf.convert_to_tensor(train_x_placeholder)\n",
        "train_y = tf.convert_to_tensor(train_y)"
      ],
      "metadata": {
        "id": "g6XvtB0K7SAK"
      },
      "execution_count": null,
      "outputs": []
    },
    {
      "cell_type": "markdown",
      "source": [
        "The tutorial aims to explain the concepts and terminologies of the research paper \" Masked Autoencoders Are Scalable Vision Learners \" .\n",
        "\n",
        "\n"
      ],
      "metadata": {
        "papermill": {
          "duration": 0.035917,
          "end_time": "2022-03-27T12:55:21.984473",
          "exception": false,
          "start_time": "2022-03-27T12:55:21.948556",
          "status": "completed"
        },
        "tags": [],
        "id": "xGdFB6lSJXwW"
      }
    },
    {
      "cell_type": "markdown",
      "source": [
        "## **<span style=\"color:#e76f51;\">Context</span>**\n",
        "\n",
        "`MAE (Masked autoencoders)` are self-supervised models used to reconstruct the image with missing pixels. It has two core designs consisting of encoder-decoder and masking(hiding) of pixels. Firstly for training purposes, up to 75% of the tokens are masked and removed and the remaining patch is encoded. Since the output of an autoencoder has the same number of tokens as input, the masked tokens are inserted again and with the lightweight decoder, the input image is reconstructed. After pre-training, the decoder is discarded and the encoder is applied to complete images(no missing pixels) for recognition tasks. The above model allows us to train the data faster and improve accuracy. This model works well on a variety of image cases and outperforms supervised training and also scales effectively.\n",
        "\n",
        "The transformer architecture has been successfully applied to Natural Language Processing(NLP) using autoregressive language modelling and masked encoding, wherein a portion of the data is removed and models are trained to predict the missing data. However, computer vision has been predominantly associated with Convolutional Neural Network(CNN). The paper explores the usage of masked autoencoders in computer vision\n",
        "\n",
        "Previously, autoencoding wasn’t used in computer vision due to the following reasons-\n",
        "\n",
        "📌 It was difficult to integrate masked tokens or positional embedding into CNN. However with Vision Transformers(ViT), this problem was solved. ViT slightly outperforms CNN for a large dataset(more than 100 million images). In ViT, we split the image into fixed size patches, vectorize them, add positional embedding and feed the vectors into a transformer encoder to train the model. \n",
        "\n",
        "📌 Languages are information-dense and predicting missing words is a sophisticated task which needs sophisticated language understanding. While missing patches of images can be recreated with little high-level understanding. To overcome this,large proportion of patches of image are masked(removed) , reducing redundancy and requiring a higher level of understanding.\n",
        "\n",
        "📌 Decoder plays different roles in reconstructing images and text. As text has a high level of semantic information(information that refers to facts, concepts and ideas which we have accumulated over the course of our lives) while images have a low level of semantic information. Thus the decoder design plays an important role for reconstructing images.\n",
        "\n",
        "The paper presents  a simple, effective and scalable form of  MAE (Masked Autoenocoder) for visual representation learning. In MAE, random patches from the input space are masked and these random patches are reconstructed in pixel space. It has an asymmetric encoder-decoder design. The encoder operates on tokens which remain after removal of masked tokens and a lightweight decoder reconstructs the image from the latent representation and masked tokens. With a high masking ratio (75%), high accuracy can be achieved, reducing the overall training time by more than 3x and also reducing memory consumption. MAE pre-training helps data-hungry modela like ViT-Huge to improve their performance. The paper also evaluates transfer learning on a variety of downstream tasks such as object detection, instance segmentation, and semantic segmentation. In these tasks, the proposed pre-trained model achieves better results than supervised pre-trained models.\n"
      ],
      "metadata": {
        "papermill": {
          "duration": 0.039857,
          "end_time": "2022-03-27T12:55:22.061429",
          "exception": false,
          "start_time": "2022-03-27T12:55:22.021572",
          "status": "completed"
        },
        "tags": [],
        "id": "B_J8mjneJXwX"
      }
    },
    {
      "cell_type": "markdown",
      "source": [
        "\n",
        "## **<span style=\"color:#e76f51;\">Masked language modelling</span>**\n",
        "\n",
        "`Masked language modelling` is successful for pre-training in NLP. In methods such as BERT and GPT(methods used for pre-training in NLP), the sequences of words from the input were removed and the model is trained to predict the missing sequence. These models scale efficiently and work for a variety of downstream tasks .\n",
        "\n",
        "## **<span style=\"color:#e76f51;\">Autoencoding</span>**\n",
        "\n",
        "`Autoencoding` type of neural network that is trained to copy its input to its output. It has an encoder that converts input vector into code vector(latent representation) using recognition weights and a decoder that regenerates the input from the code vector using generative weights. Denoising autoencoders(DAE) are used to corrupt an input signal and predict the original signal. DAE is used to extract a representation from the encoder that is robust to the introduction of noise. DAE can be constructed in many ways such as masking pixels or removing colour of the input. MAE is a kind of denoising autoencoder but different from the classical DAE in many ways. \n",
        "\n",
        "## **<span style=\"color:#e76f51;\">Masked image encoding</span>**\n",
        "\n",
        "`Masked image encoding` is used to recreate images that have been corrupted by masking. Context encoders are Convolutional Neural networks that generate patches of missing pixels on the basis of its surrounding pixels. The success of unsupervised learning using transformers in NLP has prompted a similar method to be applied to images. `iGPT` operates on sequences of pixels using a sequence transformer to predict unknown pixels autoregressive. `ViT(vision transformer)` masks patches of images and using transformers predicts the image type. Vision Transformer (ViT), using self supervision, attains excellent results compared to state-of-the-art convolutional networks while requiring substantially fewer computational resources to train. Recently, `BEiT (Bidirectional Encoder representation from Image Transformers)` is used to pretrain image transformers. We break the original image into tokens(patches) and randomly mask a few tokens and try to recover the original tokens by fine-tuning the model .\n",
        "\n",
        "## **<span style=\"color:#e76f51;\">Self Supervised Learning</span>**\n",
        "\n",
        "`Self Supervised Learning` has been used significantly in language and is now being used in computer vision. Contrastive learning is used to train a CNN to classify similar and dissimilar images. Contrastive methods strongly depend on data augmentation. Autoencoding is based on a different concept, and it exhibits different behaviours as we will present.    "
      ],
      "metadata": {
        "papermill": {
          "duration": 0.033898,
          "end_time": "2022-03-27T12:55:22.129566",
          "exception": false,
          "start_time": "2022-03-27T12:55:22.095668",
          "status": "completed"
        },
        "tags": [],
        "id": "PeHTE-VqJXwY"
      }
    },
    {
      "cell_type": "markdown",
      "source": [
        "## **<span style=\"color:#e76f51;\">Masked Autoencoders are Scalable Vision Learners</span>**\n",
        "\n",
        "Masked Autoencoder (MAE) follows a simple autoencoding approach, wherein an encoder maps an input into a latent representation and decoder reconstructs the original image from the latent representation and masked tokens. The paper proposes an unsymmetric design as it allows the encoder to operate on input after removing the masked tokens from it.\n",
        "\n",
        "## **<span style=\"color:#e76f51;\">Masking</span>**\n",
        "\n",
        "The image is divided into  regular non-overlapping patches and a subset of the patches are randomly sampled , masking(removing) the other patches. This is also called “random sampling”, i.e., sampling random patches without replacement, along with uniform distribution. Random Sampling with a high masking ratio eliminates redundancy and reduces the chance of being solved by extrapolation from the visible patches. A uniform distribution prevents centre bias(i.e. More masked patches near centre) and we get a highly sparse input, which helps in designing an efficient encoder. \n",
        "\n",
        "## **<span style=\"color:#e76f51;\">MAE Encoder</span>**\n",
        "\n",
        "ViT(Vision Transformer) is applied only on the patches that are not masked. The encoder embeds the visible patches by linear projection with added positional embedding and then processes it using transformer blocks. Masked tokens are vectors that indicate the presence of a missing patch to be predicted. Since masked patches are removed and no mask tokens are used, large encoders can be trained with a fraction of computation and memory. MAE Encoder is used during pre training and testing as well.\n",
        "\n",
        "![](https://drive.google.com/uc?id=140M9fJjbdqZ7sSR_R3WrnlSPPpYbhix6)\n",
        "\n",
        "## **<span style=\"color:#e76f51;\">MAE Decoder</span>**\n",
        "\n",
        "The inputs to the decoder are encoded visible patches and mask tokens. The total count of tokens is same as in input images.  All the tokens have positional embedding in them to know their location in the image. The decoder has transformer blocks in them. MAE decoders are used only during pre-training and hence can be designed independently of the encoder. Due to asymmetric design, a full set of tokens can be processed by lightweight decoders, which significantly reduce pre-training time.\n",
        "\n",
        "![](https://drive.google.com/uc?id=1oGNCu4Jo6N90rk9yHgMtJa1wTFo-8OPY)\n",
        "\n",
        "## **<span style=\"color:#e76f51;\">Reconstruction Target</span>**\n",
        " \n",
        "MAE reconstructs the input image by predicting the pixel values for each masked patch. Each element in the decoder’s output is a vector of pixel values representing a patch. The last layer of the decoder is a linear projection whose number of output channels equals the number of pixel values in a patch. The decoder’s output is reshaped to form a reconstructed image. The loss function compares the mean squared error between reconstructed and original images on the masked patches.We also study the results after normalising the pixel values of each masked patch as using normalised pixel values improves the accuracy of the experiments. \n",
        "\n",
        "## **<span style=\"color:#e76f51;\">Implementation</span>**\n",
        "\n",
        "In the MAE pre-training,a token for every input is generated. The token for each input patch is generated by adding positional embedding to the linear projection of the input. The list of tokens is randomly shuffled and the last portion of the list is removed depending on the masking ratio. The remaining tokens are encoded and then a list of masked tokens is appended to make the total number of  tokens equal to the number of input tokens. The full list is unshuffled to align tokens in their original position. The full list is decoded and the original image is reconstructed. This process has negligible overhead as shuffling and unshuffling operations are fast and no sparse operations(operations performed on matrices consisting of row and column numbers of non-zero numbers) are needed.\n",
        "\n",
        "![](https://drive.google.com/uc?id=1GkA53nU5xp7hcYBHFldBLYOYn6v9vdMg)\n",
        "\n"
      ],
      "metadata": {
        "papermill": {
          "duration": 0.032258,
          "end_time": "2022-03-27T12:55:22.194424",
          "exception": false,
          "start_time": "2022-03-27T12:55:22.162166",
          "status": "completed"
        },
        "tags": [],
        "id": "xldwdC4tJXwY"
      }
    },
    {
      "cell_type": "code",
      "source": [
        "!pip install -q noisereduce "
      ],
      "metadata": {
        "_kg_hide-input": true,
        "_kg_hide-output": true,
        "execution": {
          "iopub.execute_input": "2022-03-27T12:55:22.264928Z",
          "iopub.status.busy": "2022-03-27T12:55:22.263783Z",
          "iopub.status.idle": "2022-03-27T12:55:31.020598Z",
          "shell.execute_reply": "2022-03-27T12:55:31.021119Z",
          "shell.execute_reply.started": "2022-03-27T12:53:06.667196Z"
        },
        "papermill": {
          "duration": 8.793844,
          "end_time": "2022-03-27T12:55:31.021409",
          "exception": false,
          "start_time": "2022-03-27T12:55:22.227565",
          "status": "completed"
        },
        "tags": [],
        "id": "LxTl3mN5JXwZ"
      },
      "execution_count": null,
      "outputs": []
    },
    {
      "cell_type": "code",
      "source": [
        "!pip install tensorflow_addons "
      ],
      "metadata": {
        "id": "ZR41eUuIl0al",
        "colab": {
          "base_uri": "https://localhost:8080/"
        },
        "outputId": "5af4dd4f-aea6-439c-882d-36ab636abe61"
      },
      "execution_count": null,
      "outputs": [
        {
          "output_type": "stream",
          "name": "stdout",
          "text": [
            "Looking in indexes: https://pypi.org/simple, https://us-python.pkg.dev/colab-wheels/public/simple/\n",
            "Requirement already satisfied: tensorflow_addons in /usr/local/lib/python3.7/dist-packages (0.17.1)\n",
            "Requirement already satisfied: typeguard>=2.7 in /usr/local/lib/python3.7/dist-packages (from tensorflow_addons) (2.7.1)\n",
            "Requirement already satisfied: packaging in /usr/local/lib/python3.7/dist-packages (from tensorflow_addons) (21.3)\n",
            "Requirement already satisfied: pyparsing!=3.0.5,>=2.0.2 in /usr/local/lib/python3.7/dist-packages (from packaging->tensorflow_addons) (3.0.9)\n"
          ]
        }
      ]
    },
    {
      "cell_type": "code",
      "source": [
        "import os\n",
        "import json\n",
        "import numpy as np\n",
        "import pandas as pd\n",
        "import seaborn as sns\n",
        "import matplotlib.pyplot as plt\n",
        "\n",
        "pd.set_option('max_rows', 250)\n",
        "pd.set_option('max_columns', 100)\n",
        "\n",
        "from tensorflow.keras import layers\n",
        "from tensorflow.keras import models\n",
        "import tensorflow as tf\n",
        "import tensorflow_addons as tfa\n",
        "from tensorflow import keras\n",
        "\n",
        "import noisereduce as nr\n",
        "from math import ceil\n",
        "\n",
        "import random\n",
        "\n",
        "# Setting seeds for reproducibility.\n",
        "seed = 42\n",
        "tf.random.set_seed(seed)\n",
        "np.random.seed(seed)\n",
        "random.seed(seed)"
      ],
      "metadata": {
        "_kg_hide-input": true,
        "_kg_hide-output": true,
        "execution": {
          "iopub.execute_input": "2022-03-27T12:55:31.09744Z",
          "iopub.status.busy": "2022-03-27T12:55:31.096695Z",
          "iopub.status.idle": "2022-03-27T12:55:42.3049Z",
          "shell.execute_reply": "2022-03-27T12:55:42.30541Z",
          "shell.execute_reply.started": "2022-03-27T12:53:18.014455Z"
        },
        "papermill": {
          "duration": 11.250103,
          "end_time": "2022-03-27T12:55:42.305582",
          "exception": false,
          "start_time": "2022-03-27T12:55:31.055479",
          "status": "completed"
        },
        "tags": [],
        "id": "8PXj70QaJXwa"
      },
      "execution_count": null,
      "outputs": []
    },
    {
      "cell_type": "code",
      "source": [
        "#seed = 42\n",
        "os.environ['PYTHONHASHSEED'] = str(seed)\n",
        "np.random.seed(seed)\n",
        "\n",
        "DURATION = 15\n",
        "SPEC_SHAPE = (48, 128)\n",
        "SAMPLE_RATE = 32000\n",
        "TEST_DURATION = 5\n",
        "SPEC_SHAPE = (48, 128)\n",
        "FMIN = 500\n",
        "FMAX = 12500\n",
        "\n",
        "# DATA\n",
        "BUFFER_SIZE = 1024\n",
        "BATCH_SIZE = 256\n",
        "AUTO = tf.data.AUTOTUNE\n",
        "INPUT_SHAPE = (48, 128, 3)\n",
        "NUM_CLASSES = 151\n",
        "\n",
        "# OPTIMIZER\n",
        "LEARNING_RATE = 5e-3\n",
        "WEIGHT_DECAY = 1e-4\n",
        "\n",
        "# TRAINING\n",
        "EPOCHS = 1\n",
        "\n",
        "# AUGMENTATION\n",
        "IMAGE_SIZE = 48  # We'll resize input images to this size.\n",
        "IMAGE_SIZE1 = 128  # We'll resize input images to this size.\n",
        "PATCH_SIZE = 6  # Size of the patches to be extract from the input images.\n",
        "NUM_PATCHES = 168#(IMAGE_SIZE // PATCH_SIZE) ** 2\n",
        "\n",
        "# ENCODER and DECODER\n",
        "LAYER_NORM_EPS = 1e-6\n",
        "ENC_PROJECTION_DIM = 128\n",
        "ENC_NUM_HEADS = 4\n",
        "ENC_LAYERS = 3\n",
        "ENC_TRANSFORMER_UNITS = [\n",
        "    ENC_PROJECTION_DIM * 2,\n",
        "    ENC_PROJECTION_DIM,\n",
        "] # Size of the transformer layers."
      ],
      "metadata": {
        "execution": {
          "iopub.execute_input": "2022-03-27T12:55:42.775718Z",
          "iopub.status.busy": "2022-03-27T12:55:42.775031Z",
          "iopub.status.idle": "2022-03-27T12:55:42.777044Z",
          "shell.execute_reply": "2022-03-27T12:55:42.776404Z",
          "shell.execute_reply.started": "2022-03-27T12:53:29.740765Z"
        },
        "papermill": {
          "duration": 0.042232,
          "end_time": "2022-03-27T12:55:42.777173",
          "exception": false,
          "start_time": "2022-03-27T12:55:42.734941",
          "status": "completed"
        },
        "tags": [],
        "id": "lh29TujyJXwb"
      },
      "execution_count": null,
      "outputs": []
    },
    {
      "cell_type": "markdown",
      "source": [
        "## **<span style=\"color:#e76f51;\">Masking ratio</span>**\n",
        "\n",
        "A high masking ratio is optimal for MAE. Ratio of 75% is good for both linear probing and fine tuning. In other models of computer vision, masking ratio is less (between 20%-50%). While in language, the masking ratio is even lesser, around 15%.\n",
        "\n",
        "## **<span style=\"color:#e76f51;\">Mask Tokens</span>**\n",
        "\n",
        "\n",
        "The masked tokens are dropped and applied again after encoding. If masked tokens are used during encoding , the accuracy drops by 14% in linear probing and 1% in fine-tuning. This is because, in pre-training, a large proportion of tokens are masked and the encoder pre-trains on these tokens which are not part of the uncorrupted image, reducing accuracy. The masked tokens are removed as then encoder pre-trains only on the patches that exist in un-corrupted images.\n",
        "Removing masked token reduces the computational resources .\n",
        "\n",
        "## **<span style=\"color:#e76f51;\">Mask Sampling Strategy</span>**\n",
        "\n",
        "In mask sampling strategy, a large block of pixels is removed. At a masking ratio of 50%, fine-tuning and linear probing do not degrade much. But with a higher masking ratio of 75%, the accuracy decreases considerably. Also the reconstruction observed is much blurrier due to higher training loss.Grid-wise sampling has lower training loss, however, the representation quality is low. Simple random sampling works best for MAE, with a high masking ratio providing high speed and good accuracy.\n",
        "\n"
      ],
      "metadata": {
        "papermill": {
          "duration": 0.047982,
          "end_time": "2022-03-27T12:55:47.128207",
          "exception": false,
          "start_time": "2022-03-27T12:55:47.080225",
          "status": "completed"
        },
        "tags": [],
        "id": "v3EOTYUxJXwe"
      }
    },
    {
      "cell_type": "code",
      "source": [
        "class Patches(layers.Layer):\n",
        "    def __init__(self, patch_size=PATCH_SIZE):\n",
        "        super(Patches, self).__init__()\n",
        "        self.patch_size = patch_size\n",
        "\n",
        "    def call(self, images):\n",
        "        batch_size = tf.shape(images)[0]\n",
        "        patches = tf.image.extract_patches(\n",
        "            images=images,\n",
        "            sizes=[1, self.patch_size, self.patch_size, 1],\n",
        "            strides=[1, self.patch_size, self.patch_size, 1],\n",
        "            rates=[1, 1, 1, 1],\n",
        "            padding=\"VALID\",\n",
        "        )\n",
        "        patch_dims = patches.shape[-1]\n",
        "        patches = tf.reshape(patches, [batch_size, -1, patch_dims])\n",
        "        return patches"
      ],
      "metadata": {
        "execution": {
          "iopub.execute_input": "2022-03-27T12:55:47.231686Z",
          "iopub.status.busy": "2022-03-27T12:55:47.230934Z",
          "iopub.status.idle": "2022-03-27T12:55:47.234234Z",
          "shell.execute_reply": "2022-03-27T12:55:47.233653Z",
          "shell.execute_reply.started": "2022-03-27T12:54:00.787624Z"
        },
        "papermill": {
          "duration": 0.058255,
          "end_time": "2022-03-27T12:55:47.234379",
          "exception": false,
          "start_time": "2022-03-27T12:55:47.176124",
          "status": "completed"
        },
        "tags": [],
        "id": "qAXPHasTJXwe"
      },
      "execution_count": null,
      "outputs": []
    },
    {
      "cell_type": "code",
      "source": [
        "class PatchEncoder(layers.Layer):\n",
        "    def __init__(self, num_patches=NUM_PATCHES, projection_dim=ENC_PROJECTION_DIM):\n",
        "        super(PatchEncoder, self).__init__()\n",
        "        self.num_patches = num_patches\n",
        "        self.projection = layers.Dense(units=projection_dim)\n",
        "        self.position_embedding = layers.Embedding(\n",
        "            input_dim=num_patches, output_dim=projection_dim\n",
        "        )\n",
        "\n",
        "    def call(self, patch):\n",
        "        positions = tf.range(start=0, limit=self.num_patches, delta=1)\n",
        "        encoded = self.projection(patch) + self.position_embedding(positions)\n",
        "        return encoded"
      ],
      "metadata": {
        "execution": {
          "iopub.execute_input": "2022-03-27T12:55:47.334786Z",
          "iopub.status.busy": "2022-03-27T12:55:47.3341Z",
          "iopub.status.idle": "2022-03-27T12:55:47.339401Z",
          "shell.execute_reply": "2022-03-27T12:55:47.33995Z",
          "shell.execute_reply.started": "2022-03-27T12:54:01.181312Z"
        },
        "papermill": {
          "duration": 0.057524,
          "end_time": "2022-03-27T12:55:47.340144",
          "exception": false,
          "start_time": "2022-03-27T12:55:47.28262",
          "status": "completed"
        },
        "tags": [],
        "id": "3HUW96iDJXwe"
      },
      "execution_count": null,
      "outputs": []
    },
    {
      "cell_type": "code",
      "source": [
        "def mlp(x, dropout_rate, hidden_units):\n",
        "    for units in hidden_units:\n",
        "        x = layers.Dense(units, activation=tf.nn.gelu)(x)\n",
        "        x = layers.Dropout(dropout_rate)(x)\n",
        "    return x\n"
      ],
      "metadata": {
        "execution": {
          "iopub.execute_input": "2022-03-27T12:55:47.441672Z",
          "iopub.status.busy": "2022-03-27T12:55:47.441038Z",
          "iopub.status.idle": "2022-03-27T12:55:47.444702Z",
          "shell.execute_reply": "2022-03-27T12:55:47.445314Z",
          "shell.execute_reply.started": "2022-03-27T12:54:01.633413Z"
        },
        "papermill": {
          "duration": 0.056428,
          "end_time": "2022-03-27T12:55:47.44548",
          "exception": false,
          "start_time": "2022-03-27T12:55:47.389052",
          "status": "completed"
        },
        "tags": [],
        "id": "f4N-fQIAJXwf"
      },
      "execution_count": null,
      "outputs": []
    },
    {
      "cell_type": "code",
      "source": [
        "def create_vit_classifier():\n",
        "    inputs = layers.Input(shape=(IMAGE_SIZE, IMAGE_SIZE1, 3))\n",
        "    # Create patches.\n",
        "    patches = Patches()(inputs)\n",
        "    # Encode patches.\n",
        "    encoded_patches = PatchEncoder()(patches)\n",
        "\n",
        "    # Create multiple layers of the Transformer block.\n",
        "    for _ in range(ENC_LAYERS):\n",
        "        # Layer normalization 1.\n",
        "        x1 = layers.LayerNormalization(epsilon=LAYER_NORM_EPS)(encoded_patches)\n",
        "        # Create a multi-head attention layer.\n",
        "        attention_output = layers.MultiHeadAttention(\n",
        "            num_heads=ENC_NUM_HEADS, key_dim=ENC_PROJECTION_DIM, dropout=0.1\n",
        "        )(x1, x1)\n",
        "        # Skip connection 1.\n",
        "        x2 = layers.Add()([attention_output, encoded_patches])\n",
        "        # Layer normalization 2.\n",
        "        x3 = layers.LayerNormalization(epsilon=LAYER_NORM_EPS)(x2)\n",
        "        # MLP.\n",
        "        x3 = mlp(x3, hidden_units=ENC_TRANSFORMER_UNITS, dropout_rate=0.1)\n",
        "        # Skip connection 2.\n",
        "        encoded_patches = layers.Add()([x3, x2])\n",
        "        \n",
        "\n",
        "    # Create a [batch_size, projection_dim] tensor.\n",
        "    representation = layers.LayerNormalization(epsilon=LAYER_NORM_EPS)(encoded_patches)\n",
        "    representation = layers.GlobalAveragePooling1D()(representation)\n",
        "    \n",
        "    # Classify outputs.\n",
        "    outputs = layers.Dense(NUM_CLASSES, activation=\"softmax\")(representation)\n",
        "    \n",
        "    # Create the Keras model.\n",
        "    model = keras.Model(inputs=inputs, outputs=outputs)\n",
        "    return model"
      ],
      "metadata": {
        "execution": {
          "iopub.execute_input": "2022-03-27T12:55:47.546267Z",
          "iopub.status.busy": "2022-03-27T12:55:47.545545Z",
          "iopub.status.idle": "2022-03-27T12:55:47.552957Z",
          "shell.execute_reply": "2022-03-27T12:55:47.553501Z",
          "shell.execute_reply.started": "2022-03-27T12:54:02.076178Z"
        },
        "papermill": {
          "duration": 0.059666,
          "end_time": "2022-03-27T12:55:47.553682",
          "exception": false,
          "start_time": "2022-03-27T12:55:47.494016",
          "status": "completed"
        },
        "tags": [],
        "id": "V7nRpIG9JXwf"
      },
      "execution_count": null,
      "outputs": []
    },
    {
      "cell_type": "code",
      "source": [
        "with strategy.scope():\n",
        "  vit_model = create_vit_classifier()\n",
        "  vit_model.compile(\n",
        "      optimizer='adam',\n",
        "      loss=\"categorical_crossentropy\",#sparse_categorical_crossentropy\n",
        "      metrics=[\"accuracy\"]\n",
        "  )\n",
        " \n",
        "  vit_model.fit(train_x_placeholder,train_y, batch_size= 1,epochs=EPOCHS,verbose=1)\n",
        " "
      ],
      "metadata": {
        "execution": {
          "iopub.execute_input": "2022-03-27T12:55:47.761975Z",
          "iopub.status.busy": "2022-03-27T12:55:47.761385Z",
          "iopub.status.idle": "2022-03-27T12:55:47.765361Z",
          "shell.execute_reply": "2022-03-27T12:55:47.765913Z",
          "shell.execute_reply.started": "2022-03-27T12:54:03.632774Z"
        },
        "papermill": {
          "duration": 0.055226,
          "end_time": "2022-03-27T12:55:47.766119",
          "exception": false,
          "start_time": "2022-03-27T12:55:47.710893",
          "status": "completed"
        },
        "tags": [],
        "id": "sqiBLt3AJXwf",
        "colab": {
          "base_uri": "https://localhost:8080/"
        },
        "outputId": "436463f1-ae72-4263-a0c0-9e4c4ce0b927"
      },
      "execution_count": null,
      "outputs": [
        {
          "output_type": "stream",
          "name": "stdout",
          "text": [
            "20000/20000 [==============================] - 311s 15ms/step - loss: 3.6487 - accuracy: 0.1261\n"
          ]
        }
      ]
    },
    {
      "cell_type": "code",
      "source": [
        "vit_model.summary()"
      ],
      "metadata": {
        "execution": {
          "iopub.execute_input": "2022-03-27T12:55:48.431129Z",
          "iopub.status.busy": "2022-03-27T12:55:48.430442Z",
          "iopub.status.idle": "2022-03-27T12:55:48.450068Z",
          "shell.execute_reply": "2022-03-27T12:55:48.450748Z",
          "shell.execute_reply.started": "2022-03-27T12:54:06.768691Z"
        },
        "papermill": {
          "duration": 0.059597,
          "end_time": "2022-03-27T12:55:48.450924",
          "exception": false,
          "start_time": "2022-03-27T12:55:48.391327",
          "status": "completed"
        },
        "tags": [],
        "id": "LkkD0vCNJXwg",
        "colab": {
          "base_uri": "https://localhost:8080/"
        },
        "outputId": "3b5f9ab3-bf62-4677-ee4d-8a15a6be41f3"
      },
      "execution_count": null,
      "outputs": [
        {
          "output_type": "stream",
          "name": "stdout",
          "text": [
            "Model: \"model_1\"\n",
            "__________________________________________________________________________________________________\n",
            " Layer (type)                   Output Shape         Param #     Connected to                     \n",
            "==================================================================================================\n",
            " input_2 (InputLayer)           [(None, 48, 128, 3)  0           []                               \n",
            "                                ]                                                                 \n",
            "                                                                                                  \n",
            " patches_1 (Patches)            (None, None, 108)    0           ['input_2[0][0]']                \n",
            "                                                                                                  \n",
            " patch_encoder_1 (PatchEncoder)  (None, 168, 128)    35456       ['patches_1[0][0]']              \n",
            "                                                                                                  \n",
            " layer_normalization_7 (LayerNo  (None, 168, 128)    256         ['patch_encoder_1[0][0]']        \n",
            " rmalization)                                                                                     \n",
            "                                                                                                  \n",
            " multi_head_attention_3 (MultiH  (None, 168, 128)    263808      ['layer_normalization_7[0][0]',  \n",
            " eadAttention)                                                    'layer_normalization_7[0][0]']  \n",
            "                                                                                                  \n",
            " add_6 (Add)                    (None, 168, 128)     0           ['multi_head_attention_3[0][0]', \n",
            "                                                                  'patch_encoder_1[0][0]']        \n",
            "                                                                                                  \n",
            " layer_normalization_8 (LayerNo  (None, 168, 128)    256         ['add_6[0][0]']                  \n",
            " rmalization)                                                                                     \n",
            "                                                                                                  \n",
            " dense_9 (Dense)                (None, 168, 256)     33024       ['layer_normalization_8[0][0]']  \n",
            "                                                                                                  \n",
            " dropout_6 (Dropout)            (None, 168, 256)     0           ['dense_9[0][0]']                \n",
            "                                                                                                  \n",
            " dense_10 (Dense)               (None, 168, 128)     32896       ['dropout_6[0][0]']              \n",
            "                                                                                                  \n",
            " dropout_7 (Dropout)            (None, 168, 128)     0           ['dense_10[0][0]']               \n",
            "                                                                                                  \n",
            " add_7 (Add)                    (None, 168, 128)     0           ['dropout_7[0][0]',              \n",
            "                                                                  'add_6[0][0]']                  \n",
            "                                                                                                  \n",
            " layer_normalization_9 (LayerNo  (None, 168, 128)    256         ['add_7[0][0]']                  \n",
            " rmalization)                                                                                     \n",
            "                                                                                                  \n",
            " multi_head_attention_4 (MultiH  (None, 168, 128)    263808      ['layer_normalization_9[0][0]',  \n",
            " eadAttention)                                                    'layer_normalization_9[0][0]']  \n",
            "                                                                                                  \n",
            " add_8 (Add)                    (None, 168, 128)     0           ['multi_head_attention_4[0][0]', \n",
            "                                                                  'add_7[0][0]']                  \n",
            "                                                                                                  \n",
            " layer_normalization_10 (LayerN  (None, 168, 128)    256         ['add_8[0][0]']                  \n",
            " ormalization)                                                                                    \n",
            "                                                                                                  \n",
            " dense_11 (Dense)               (None, 168, 256)     33024       ['layer_normalization_10[0][0]'] \n",
            "                                                                                                  \n",
            " dropout_8 (Dropout)            (None, 168, 256)     0           ['dense_11[0][0]']               \n",
            "                                                                                                  \n",
            " dense_12 (Dense)               (None, 168, 128)     32896       ['dropout_8[0][0]']              \n",
            "                                                                                                  \n",
            " dropout_9 (Dropout)            (None, 168, 128)     0           ['dense_12[0][0]']               \n",
            "                                                                                                  \n",
            " add_9 (Add)                    (None, 168, 128)     0           ['dropout_9[0][0]',              \n",
            "                                                                  'add_8[0][0]']                  \n",
            "                                                                                                  \n",
            " layer_normalization_11 (LayerN  (None, 168, 128)    256         ['add_9[0][0]']                  \n",
            " ormalization)                                                                                    \n",
            "                                                                                                  \n",
            " multi_head_attention_5 (MultiH  (None, 168, 128)    263808      ['layer_normalization_11[0][0]', \n",
            " eadAttention)                                                    'layer_normalization_11[0][0]'] \n",
            "                                                                                                  \n",
            " add_10 (Add)                   (None, 168, 128)     0           ['multi_head_attention_5[0][0]', \n",
            "                                                                  'add_9[0][0]']                  \n",
            "                                                                                                  \n",
            " layer_normalization_12 (LayerN  (None, 168, 128)    256         ['add_10[0][0]']                 \n",
            " ormalization)                                                                                    \n",
            "                                                                                                  \n",
            " dense_13 (Dense)               (None, 168, 256)     33024       ['layer_normalization_12[0][0]'] \n",
            "                                                                                                  \n",
            " dropout_10 (Dropout)           (None, 168, 256)     0           ['dense_13[0][0]']               \n",
            "                                                                                                  \n",
            " dense_14 (Dense)               (None, 168, 128)     32896       ['dropout_10[0][0]']             \n",
            "                                                                                                  \n",
            " dropout_11 (Dropout)           (None, 168, 128)     0           ['dense_14[0][0]']               \n",
            "                                                                                                  \n",
            " add_11 (Add)                   (None, 168, 128)     0           ['dropout_11[0][0]',             \n",
            "                                                                  'add_10[0][0]']                 \n",
            "                                                                                                  \n",
            " layer_normalization_13 (LayerN  (None, 168, 128)    256         ['add_11[0][0]']                 \n",
            " ormalization)                                                                                    \n",
            "                                                                                                  \n",
            " global_average_pooling1d_1 (Gl  (None, 128)         0           ['layer_normalization_13[0][0]'] \n",
            " obalAveragePooling1D)                                                                            \n",
            "                                                                                                  \n",
            " dense_15 (Dense)               (None, 151)          19479       ['global_average_pooling1d_1[0][0\n",
            "                                                                 ]']                              \n",
            "                                                                                                  \n",
            "==================================================================================================\n",
            "Total params: 1,045,911\n",
            "Trainable params: 1,045,911\n",
            "Non-trainable params: 0\n",
            "__________________________________________________________________________________________________\n"
          ]
        }
      ]
    },
    {
      "cell_type": "code",
      "source": [
        "vit_model.save_weights('BirdClef.h5', overwrite=True)"
      ],
      "metadata": {
        "id": "JOfbCX7LVneO"
      },
      "execution_count": null,
      "outputs": []
    },
    {
      "cell_type": "markdown",
      "source": [
        "The core of deep learning consists of simple algorithms that scale up well. While self supervised learning methods are used in NLP due to exponential scaling models, computer vision still primarily has supervised models. In this paper, authors observe that using autoencoder - a simple self-supervised method similar to techniques in NLP- provides scalable benefits. Self-supervised learning in vision is on the same path as in NLP. Images and languages are different types of signals and these differences must be addressed carefully. Images do not have a semantic decomposition like languages and instead of attempting to remove objects like we do in language, random patches that do not most likely form semantic segment are removed. Thus, the MAE model reconstructs pixels, which are not semantic entities. This behaviour occurs by way of a rich hidden representation inside the MAE.The method predicts content based on statistics learned from the training dataset and will reflect biases in those data, including the ones with a negative societal impact or inexistent content.  \n"
      ],
      "metadata": {
        "papermill": {
          "duration": 0.048961,
          "end_time": "2022-03-27T12:55:48.549486",
          "exception": false,
          "start_time": "2022-03-27T12:55:48.500525",
          "status": "completed"
        },
        "tags": [],
        "id": "CaghtRcXJXwg"
      }
    }
  ]
}